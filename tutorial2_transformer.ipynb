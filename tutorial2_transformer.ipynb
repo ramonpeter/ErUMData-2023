{
 "cells": [
  {
   "cell_type": "code",
   "execution_count": 1,
   "id": "627c0349-07f8-476b-84ba-5e61afe7a672",
   "metadata": {},
   "outputs": [],
   "source": [
    "import torch\n",
    "import torch.nn as nn\n",
    "import torch.distributions as D\n",
    "import torch.nn.functional as F\n",
    "import matplotlib.pyplot as plt\n",
    "import numpy as np\n",
    "from torch.utils.data import TensorDataset\n",
    "from torch.utils.data import DataLoader"
   ]
  },
  {
   "cell_type": "code",
   "execution_count": 2,
   "id": "80a81aa7-d345-45a0-921a-bf4c78fead61",
   "metadata": {},
   "outputs": [],
   "source": [
    "train_data = np.load(\"datasets/dy_trn_data.npy\")\n",
    "val_data = np.load(\"datasets/dy_val_data.npy\")\n",
    "test_data = np.load(\"datasets/dy_tst_data.npy\")"
   ]
  },
  {
   "cell_type": "code",
   "execution_count": 3,
   "id": "a237c8e2-d522-4a7d-a621-fb6854a2e541",
   "metadata": {},
   "outputs": [],
   "source": [
    "def apply_preprocessing(data_full):\n",
    "    pt = np.sqrt(data_full[:,1]**2 + data_full[:,2]**2)\n",
    "    eta1 = np.arctanh(data_full[:,3] / np.sqrt(data_full[:,1]**2 + data_full[:,2]**2 + data_full[:,3]**2))\n",
    "    eta2 = np.arctanh(data_full[:,7] / np.sqrt(data_full[:,5]**2 + data_full[:,6]**2 + data_full[:,7]**2))\n",
    "    phi1 = np.arctanh(np.arctan2(data_full[:,2], data_full[:,1]) / np.pi)\n",
    "    return np.stack((pt, eta1, eta2, phi1), axis=1)\n",
    "    \n",
    "def invert_preprocessing(data_red):\n",
    "    pt = data_red[...,0]\n",
    "    eta1 = data_red[...,1]\n",
    "    eta2 = data_red[...,2]\n",
    "    phi1 = np.arctan(data_red[...,3]) * np.pi\n",
    "    px1 = pt * np.cos(phi1)\n",
    "    py1 = pt * np.sin(phi1)\n",
    "    pz1 = pt * np.sinh(eta1)\n",
    "    e1 = np.sqrt(px1**2 + py1**2 + pz1**2)\n",
    "    px2 = -px1\n",
    "    py2 = -py1\n",
    "    pz2 = pt * np.sinh(eta2)\n",
    "    e2 = np.sqrt(px2**2 + py2**2 + pz2**2)\n",
    "    return np.stack((e1, px1, py1, pz1, e2, px2, py2, pz2), axis=-1)\n",
    "\n",
    "def get_obs(event):\n",
    "    jet1_4m = event[:,0:4]\n",
    "    jet2_4m = event[:,4:]\n",
    "    event_4m = jet1_4m + jet2_4m\n",
    "    event_im = np.sqrt(event_4m[:,0]**2 - event_4m[:,1]**2 - event_4m[:,2]**2 - event_4m[:,3]**2)\n",
    "    pt = np.sqrt(jet1_4m[:,1]**2 + jet1_4m[:,2]**2)\n",
    "    return event_im, pt"
   ]
  },
  {
   "cell_type": "code",
   "execution_count": 4,
   "id": "4b3bae77-5f62-4cde-8388-b16bd6062357",
   "metadata": {},
   "outputs": [],
   "source": [
    "train_data_preproc = apply_preprocessing(train_data)\n",
    "train_mean = np.mean(train_data_preproc, axis=0)\n",
    "train_std = np.std(train_data_preproc, axis=0)\n",
    "train_data_normalized = torch.Tensor((train_data_preproc - train_mean) / train_std)\n",
    "train_dataset = TensorDataset(train_data_normalized)\n",
    "train_dataloader = DataLoader(train_data_normalized, batch_size=1024, shuffle=True)"
   ]
  },
  {
   "cell_type": "code",
   "execution_count": 5,
   "id": "e6ad0bb6-c59c-46db-b616-65a09b0fb15a",
   "metadata": {},
   "outputs": [],
   "source": [
    "class JetGPT(nn.Module):\n",
    "    def __init__(\n",
    "        self,\n",
    "        data_dim: int,           # number of features in the data\n",
    "        embedding_dim: int,      # number of features in the transformer\n",
    "        heads: int,              # number of attention heads\n",
    "        feedforward_dim: int,    # dimension of the feed-forward layers in the transformer\n",
    "        transformer_layers: int, # number of transformer layers\n",
    "        mlp_layers: int,         # number of layers in the final MLP\n",
    "        mlp_hidden_dim: int,     # number of hidden nodes in the final MLP\n",
    "        gaussians: int,          # number of Gaussians in the Gaussian mixture model\n",
    "    ):\n",
    "        super().__init__()\n",
    "        self.data_dim = data_dim\n",
    "        \n",
    "        # Build trainable embedding layer\n",
    "        self.embedding_layer = torch.nn.Linear(data_dim + 1, embedding_dim)\n",
    "\n",
    "        # Build transformer\n",
    "        encoder_layer = nn.TransformerEncoderLayer(\n",
    "            d_model=embedding_dim,\n",
    "            nhead=heads,\n",
    "            dim_feedforward=feedforward_dim,\n",
    "            batch_first=True\n",
    "        )\n",
    "        self.transformer = nn.TransformerEncoder(encoder_layer=encoder_layer, num_layers=transformer_layers)\n",
    "\n",
    "        # Build final MLP\n",
    "        layers = []\n",
    "        layer_dim_in = embedding_dim\n",
    "        for i in range(mlp_layers - 1):\n",
    "            layers.append(nn.Linear(layer_dim_in, mlp_hidden_dim))\n",
    "            layers.append(nn.ReLU())\n",
    "            layer_dim_in = mlp_hidden_dim\n",
    "        layers.append(nn.Linear(layer_dim_in, gaussians * 3))\n",
    "        self.mlp = nn.Sequential(*layers)\n",
    "\n",
    "    def embedding(\n",
    "        self,\n",
    "        x: torch.Tensor, # input data, shape (n_batch, seq_len)\n",
    "        drop_last: bool, # if True, drop last feature (used during training)\n",
    "    ) -> torch.Tensor:   # returns data in embedding space, shape (n_batch, seq_len [+1], data_dim + 1)\n",
    "        if drop_last:\n",
    "            x = x[:, :-1]\n",
    "        shifted_x = torch.cat((torch.zeros((x.shape[0], 1)), x), dim=1)\n",
    "        embedding_input = torch.cat((\n",
    "            shifted_x[:, :, None],\n",
    "            torch.eye(shifted_x.shape[1], self.data_dim)[None, :, :].expand(x.shape[0], -1, -1)\n",
    "        ), dim=2)\n",
    "        return self.embedding_layer(embedding_input)\n",
    "\n",
    "    def eval_networks(\n",
    "        self,\n",
    "        embedding: torch.Tensor, # data in embedding space, shape (n_batch, seq_len [+1], data_dim + 1)\n",
    "    ) -> torch.Tensor:           # parameters of the GMM, shape (n_batch, seq_len [+1], 3 * gaussians)\n",
    "        attention_mask = torch.ones((embedding.shape[1], embedding.shape[1])).triu(diagonal=1).bool()\n",
    "        transformer_output = self.transformer(embedding, attention_mask)\n",
    "        return self.mlp(transformer_output)\n",
    "\n",
    "    def gaussian_mixture_model(\n",
    "        self,\n",
    "        gmm_params: torch.Tensor, # parameters of the GMM, shape (n_batch, seq_len [+1], 3 * gaussians)\n",
    "    ) -> D.Distribution:          # Distribution object encoding the GMM\n",
    "        mu = gmm_params[:, :, 0 :: 3]\n",
    "        sigma = torch.exp(gmm_params[:, :, 1 :: 3])\n",
    "        weights = F.softmax(gmm_params[:, :, 2 :: 3], dim=2)\n",
    "        mix = D.Categorical(weights)\n",
    "        comp = D.Normal(mu, sigma)\n",
    "        return D.MixtureSameFamily(mix, comp)\n",
    "\n",
    "    def input_to_gmm(\n",
    "        self,\n",
    "        x: torch.Tensor, # input data, shape (n_batch, seq_len)\n",
    "        drop_last: bool  # if True, drop last feature (used during training)\n",
    "    ) -> D.Distribution: # Distribution object encoding the GMM\n",
    "        embedding = self.embedding(x, drop_last)\n",
    "        gmm_params = self.eval_networks(embedding)\n",
    "        return self.gaussian_mixture_model(gmm_params)\n",
    "\n",
    "    def log_prob(\n",
    "        self,\n",
    "        x: torch.Tensor, # input data, shape (n_batch, data_dim)\n",
    "    ) -> torch.Tensor:   # log-probabilities, shape (n_batch, )\n",
    "        return self.input_to_gmm(x, drop_last=True).log_prob(x).sum(dim=1)\n",
    "\n",
    "    def sample(\n",
    "        self,\n",
    "        n_samples: int, # number of samples\n",
    "    ) -> torch.Tensor:  # sampled data, shape (n_samples, data_dim)\n",
    "        x = torch.zeros((n_samples, 0))\n",
    "        for i in range(self.data_dim):\n",
    "            x_new = self.input_to_gmm(x, drop_last=False).sample()[:, -1:]\n",
    "            x = torch.cat((x, x_new), dim=1)\n",
    "        return x"
   ]
  },
  {
   "cell_type": "code",
   "execution_count": 6,
   "id": "326e1458-b1f0-428d-8b6f-8e6448713aed",
   "metadata": {},
   "outputs": [
    {
     "name": "stdout",
     "output_type": "stream",
     "text": [
      "Epoch 1: loss = 3.9109068535841427\n",
      "Epoch 2: loss = 3.61485943162935\n",
      "Epoch 3: loss = 3.568342178707292\n",
      "Epoch 4: loss = 3.545492069255671\n",
      "Epoch 5: loss = 3.5309100341514723\n"
     ]
    }
   ],
   "source": [
    "jet_gpt = JetGPT(\n",
    "    data_dim = 4,\n",
    "    embedding_dim = 64,\n",
    "    heads = 4,\n",
    "    feedforward_dim = 128,\n",
    "    transformer_layers = 4,\n",
    "    mlp_layers = 3,\n",
    "    mlp_hidden_dim = 64,\n",
    "    gaussians = 10,\n",
    ")\n",
    "optimizer = torch.optim.Adam(jet_gpt.parameters(), lr=3e-4) # https://twitter.com/karpathy/status/801621764144971776\n",
    "\n",
    "for epoch in range(5):\n",
    "    epoch_losses = []\n",
    "    for batch, x in enumerate(train_dataloader):\n",
    "        loss = -jet_gpt.log_prob(x).mean()\n",
    "        optimizer.zero_grad()\n",
    "        loss.backward()\n",
    "        optimizer.step()\n",
    "        epoch_losses.append(loss.item())\n",
    "    print(f\"Epoch {epoch+1}: loss = {np.mean(epoch_losses)}\")"
   ]
  },
  {
   "cell_type": "code",
   "execution_count": 7,
   "id": "fe979a4f",
   "metadata": {},
   "outputs": [],
   "source": [
    "with torch.no_grad():\n",
    "    sample = jet_gpt.sample(100000).cpu().numpy()\n",
    "sample_pp = invert_preprocessing(sample * train_std + train_mean)\n",
    "gen_event_im, gen_pt = get_obs(sample_pp)\n",
    "test_event_im, test_pt = get_obs(test_data)"
   ]
  },
  {
   "cell_type": "code",
   "execution_count": 8,
   "id": "4fa298cd",
   "metadata": {},
   "outputs": [
    {
     "data": {
      "text/plain": [
       "(array([0.00000000e+00, 0.00000000e+00, 0.00000000e+00, 1.81311362e-05,\n",
       "        1.48502639e-04, 2.28452316e-03, 6.52979920e-03, 9.62676994e-03,\n",
       "        1.27971286e-02, 1.60236075e-02, 2.12160195e-02, 2.36326410e-02,\n",
       "        1.58725147e-02, 1.25303419e-02, 1.07301791e-02, 9.37552420e-03,\n",
       "        8.28765603e-03, 7.33188613e-03, 6.72406137e-03, 6.18358084e-03,\n",
       "        5.58611673e-03, 5.18636835e-03, 4.77798609e-03, 4.55350535e-03,\n",
       "        4.16670778e-03, 3.87488283e-03, 3.62536386e-03, 3.35685036e-03,\n",
       "        3.18330949e-03, 3.00631506e-03, 2.87508017e-03, 2.68686171e-03,\n",
       "        2.54526617e-03, 2.35014061e-03, 2.28797671e-03, 2.13429375e-03,\n",
       "        2.04622823e-03, 1.90463269e-03, 1.83210815e-03, 1.74231585e-03,\n",
       "        1.68619567e-03, 1.53164932e-03, 1.45998816e-03, 1.35379150e-03,\n",
       "        1.28644728e-03, 1.22946371e-03, 1.17852385e-03, 1.16384627e-03,\n",
       "        1.07491736e-03]),\n",
       " array([  0.        ,   4.08163265,   8.16326531,  12.24489796,\n",
       "         16.32653061,  20.40816327,  24.48979592,  28.57142857,\n",
       "         32.65306122,  36.73469388,  40.81632653,  44.89795918,\n",
       "         48.97959184,  53.06122449,  57.14285714,  61.2244898 ,\n",
       "         65.30612245,  69.3877551 ,  73.46938776,  77.55102041,\n",
       "         81.63265306,  85.71428571,  89.79591837,  93.87755102,\n",
       "         97.95918367, 102.04081633, 106.12244898, 110.20408163,\n",
       "        114.28571429, 118.36734694, 122.44897959, 126.53061224,\n",
       "        130.6122449 , 134.69387755, 138.7755102 , 142.85714286,\n",
       "        146.93877551, 151.02040816, 155.10204082, 159.18367347,\n",
       "        163.26530612, 167.34693878, 171.42857143, 175.51020408,\n",
       "        179.59183673, 183.67346939, 187.75510204, 191.83673469,\n",
       "        195.91836735, 200.        ]),\n",
       " [<matplotlib.patches.Polygon at 0x17c014580>])"
      ]
     },
     "execution_count": 8,
     "metadata": {},
     "output_type": "execute_result"
    },
    {
     "data": {
      "image/png": "[encoded data removed]",
      "text/plain": [
       "<Figure size 640x480 with 1 Axes>"
      ]
     },
     "metadata": {},
     "output_type": "display_data"
    }
   ],
   "source": [
    "plt.hist(sample_pp[:,0], bins=np.linspace(0,200,50), density=True, histtype=\"step\")\n",
    "plt.hist(test_data[:,0], bins=np.linspace(0,200,50), density=True, histtype=\"step\")"
   ]
  },
  {
   "cell_type": "code",
   "execution_count": null,
   "id": "70034ca3",
   "metadata": {},
   "outputs": [],
   "source": []
  }
 ],
 "metadata": {
  "kernelspec": {
   "display_name": "Python 3 (ipykernel)",
   "language": "python",
   "name": "python3"
  },
  "language_info": {
   "codemirror_mode": {
    "name": "ipython",
    "version": 3
   },
   "file_extension": ".py",
   "mimetype": "text/x-python",
   "name": "python",
   "nbconvert_exporter": "python",
   "pygments_lexer": "ipython3",
   "version": "3.10.12"
  }
 },
 "nbformat": 4,
 "nbformat_minor": 5
}
